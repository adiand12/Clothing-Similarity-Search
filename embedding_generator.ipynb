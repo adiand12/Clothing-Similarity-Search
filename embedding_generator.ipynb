{
 "cells": [
  {
   "cell_type": "code",
   "execution_count": 1,
   "metadata": {},
   "outputs": [],
   "source": [
    "import numpy as np\n",
    "import pandas as pd\n",
    "\n",
    "data = pd.read_csv(\"./Final_Data.csv\")"
   ]
  },
  {
   "cell_type": "code",
   "execution_count": 2,
   "metadata": {},
   "outputs": [
    {
     "data": {
      "text/html": [
       "<div>\n",
       "<style scoped>\n",
       "    .dataframe tbody tr th:only-of-type {\n",
       "        vertical-align: middle;\n",
       "    }\n",
       "\n",
       "    .dataframe tbody tr th {\n",
       "        vertical-align: top;\n",
       "    }\n",
       "\n",
       "    .dataframe thead th {\n",
       "        text-align: right;\n",
       "    }\n",
       "</style>\n",
       "<table border=\"1\" class=\"dataframe\">\n",
       "  <thead>\n",
       "    <tr style=\"text-align: right;\">\n",
       "      <th></th>\n",
       "      <th>Unnamed: 0</th>\n",
       "      <th>id</th>\n",
       "      <th>brand</th>\n",
       "      <th>title</th>\n",
       "      <th>sold_price</th>\n",
       "      <th>actual_price</th>\n",
       "      <th>url</th>\n",
       "    </tr>\n",
       "  </thead>\n",
       "  <tbody>\n",
       "    <tr>\n",
       "      <th>0</th>\n",
       "      <td>0</td>\n",
       "      <td>1</td>\n",
       "      <td>CHALODIA</td>\n",
       "      <td>Women Flared High Rise Black Jeans</td>\n",
       "      <td>₹549</td>\n",
       "      <td>₹1,999</td>\n",
       "      <td>https://www.flipkart.com/chalodia-flared-women...</td>\n",
       "    </tr>\n",
       "    <tr>\n",
       "      <th>1</th>\n",
       "      <td>1</td>\n",
       "      <td>2</td>\n",
       "      <td>BLINKIN</td>\n",
       "      <td>Color Block Women Green Tights</td>\n",
       "      <td>₹349</td>\n",
       "      <td>₹1,680</td>\n",
       "      <td>https://www.flipkart.com/blinkin-color-block-w...</td>\n",
       "    </tr>\n",
       "    <tr>\n",
       "      <th>2</th>\n",
       "      <td>2</td>\n",
       "      <td>3</td>\n",
       "      <td>Yana</td>\n",
       "      <td>Pack of 3 Women Sports Non Padded Bra</td>\n",
       "      <td>₹149</td>\n",
       "      <td>₹890</td>\n",
       "      <td>https://www.flipkart.com/yana-women-sports-non...</td>\n",
       "    </tr>\n",
       "    <tr>\n",
       "      <th>3</th>\n",
       "      <td>3</td>\n",
       "      <td>4</td>\n",
       "      <td>KOTTY</td>\n",
       "      <td>Women Regular Fit Black Viscose Rayon Trousers</td>\n",
       "      <td>₹349</td>\n",
       "      <td>₹1,999</td>\n",
       "      <td>https://www.flipkart.com/kotty-regular-fit-wom...</td>\n",
       "    </tr>\n",
       "    <tr>\n",
       "      <th>4</th>\n",
       "      <td>4</td>\n",
       "      <td>5</td>\n",
       "      <td>TYFFYN</td>\n",
       "      <td>Women Slim High Rise Black Jeans</td>\n",
       "      <td>₹499</td>\n",
       "      <td>₹1,499</td>\n",
       "      <td>https://www.flipkart.com/tyffyn-slim-women-bla...</td>\n",
       "    </tr>\n",
       "  </tbody>\n",
       "</table>\n",
       "</div>"
      ],
      "text/plain": [
       "   Unnamed: 0  id     brand                                           title  \\\n",
       "0           0   1  CHALODIA              Women Flared High Rise Black Jeans   \n",
       "1           1   2   BLINKIN                  Color Block Women Green Tights   \n",
       "2           2   3      Yana           Pack of 3 Women Sports Non Padded Bra   \n",
       "3           3   4     KOTTY  Women Regular Fit Black Viscose Rayon Trousers   \n",
       "4           4   5    TYFFYN                Women Slim High Rise Black Jeans   \n",
       "\n",
       "  sold_price actual_price                                                url  \n",
       "0       ₹549       ₹1,999  https://www.flipkart.com/chalodia-flared-women...  \n",
       "1       ₹349       ₹1,680  https://www.flipkart.com/blinkin-color-block-w...  \n",
       "2       ₹149         ₹890  https://www.flipkart.com/yana-women-sports-non...  \n",
       "3       ₹349       ₹1,999  https://www.flipkart.com/kotty-regular-fit-wom...  \n",
       "4       ₹499       ₹1,499  https://www.flipkart.com/tyffyn-slim-women-bla...  "
      ]
     },
     "execution_count": 2,
     "metadata": {},
     "output_type": "execute_result"
    }
   ],
   "source": [
    "data.head()"
   ]
  },
  {
   "cell_type": "code",
   "execution_count": 8,
   "metadata": {},
   "outputs": [],
   "source": [
    "item_dict = pd.Series(data.url.values,index=data.title).to_dict()"
   ]
  },
  {
   "cell_type": "code",
   "execution_count": 9,
   "metadata": {},
   "outputs": [
    {
     "name": "stdout",
     "output_type": "stream",
     "text": [
      "(8945, 768)\n"
     ]
    }
   ],
   "source": [
    "from sentence_transformers import SentenceTransformer\n",
    "sentences =list(data.url.values)\n",
    "\n",
    "model = SentenceTransformer('sentence-transformers/stsb-roberta-base')\n",
    "embeddings = model.encode(sentences)\n",
    "print(embeddings.shape)"
   ]
  },
  {
   "cell_type": "code",
   "execution_count": 34,
   "metadata": {},
   "outputs": [],
   "source": [
    "np.save(\"embeddings.npy\", embeddings)\n",
    "np.save(\"items_urls.npy\", data.url.values)"
   ]
  },
  {
   "cell_type": "code",
   "execution_count": 26,
   "metadata": {},
   "outputs": [],
   "source": [
    "import faiss\n",
    "index = faiss.IndexFlatL2(embeddings.shape[1])\n",
    "index.add(embeddings)\n",
    "\n",
    "distances,indices = index.search(embeddings[0].reshape((1, 768)), 5)"
   ]
  },
  {
   "cell_type": "code",
   "execution_count": 27,
   "metadata": {},
   "outputs": [
    {
     "data": {
      "text/plain": [
       "array([[  0.      ,  30.533703,  58.272667,  79.90371 , 124.33252 ]],\n",
       "      dtype=float32)"
      ]
     },
     "execution_count": 27,
     "metadata": {},
     "output_type": "execute_result"
    }
   ],
   "source": [
    "distances"
   ]
  },
  {
   "cell_type": "code",
   "execution_count": 30,
   "metadata": {},
   "outputs": [],
   "source": [
    "def returnTopNSimilar(query_string, n=5):\n",
    "    embeddings = np.load(\"./embeddings.npy\")\n",
    "    item_urls = np.load(\"./items_urls.npy\")\n",
    "    from sentence_transformers import SentenceTransformer\n",
    "    model = SentenceTransformer('sentence-transformers/stsb-roberta-base')\n",
    "    query_vector = model.encode([query_string])\n",
    "    \n",
    "    distances,indices = index.search(query_vector, 5)\n",
    "    \n",
    "    return item_urls[indices]"
   ]
  },
  {
   "cell_type": "code",
   "execution_count": 31,
   "metadata": {},
   "outputs": [
    {
     "data": {
      "text/plain": [
       "array([['https://www.flipkart.com/scube-designs-round-neck-women-blouse/p/itm86a878c330a54?pid=BLOGFJ59MGD9ZUZN&lid=LSTBLOGFJ59MGD9ZUZNLZJQLZ&marketplace=FLIPKART&store=clo%2F8on%2F5n9%2Fhny&srno=b_3_97&otracker=browse&fm=organic&iid=en_QdS%2BQkPoRK258iMgKrd0w2hcwLrvd%2FWckjKSkNCov6uhbSiaZuLPIvE%2F4AFywIb8kQB3LLuVcaWc1vmzi9USfw%3D%3D&ppt=None&ppn=None&ssid=4qso4sexlc0000001684490473167',\n",
       "        'https://www.flipkart.com/w-liberty-women-black-bellies/p/itmb645f2554efae?pid=SNDG5ZQCXDEXMHA8&lid=LSTSNDG5ZQCXDEXMHA8J8H4HA&marketplace=FLIPKART&store=osp%2Fiko%2F974&srno=b_2_77&otracker=nmenu_sub_Women_0_Ballerinas&fm=organic&iid=en_c68HHChX4gjmM%2FDXZo2rMp0CPRP%2Fy2E7nYsLjGgJeaqtnQCBttV8UfFA6CkDEzEk%2FGQtL4e8jrde5laTZnQfzA%3D%3D&ppt=None&ppn=None&ssid=hl1opj6xxc0000001684490196900',\n",
       "        'https://www.flipkart.com/levi-s-men-mid-calf-crew/p/itm3e8811ab17060?pid=SOCGEQYYDAWDXZZ3&lid=LSTSOCGEQYYDAWDXZZ3M3LZHU&marketplace=FLIPKART&store=clo%2Fqd8&srno=b_1_20&otracker=browse&fm=organic&iid=14975acc-d356-448f-82fd-d66db5931ba6.SOCGEQYYDAWDXZZ3.SEARCH&ppt=None&ppn=None&ssid=ck1udhxhk00000001684490048896',\n",
       "        'https://www.flipkart.com/alina-latest-trendy-backpack-used-girls-pu-leather-school-bag-student-travel-bag-casual-college-girls-12-l-backpack/p/itm5ea1241ee5e6b?pid=BKPG6KTPDURG46F7&lid=LSTBKPG6KTPDURG46F7B6N6PR&marketplace=FLIPKART&store=reh%2Fihu%2Fyvb&srno=b_3_82&otracker=browse&fm=organic&iid=320a609a-eb0a-4269-84ad-b0960450bad3.BKPG6KTPDURG46F7.SEARCH&ppt=None&ppn=None&ssid=xm1f67eejk0000001684490555677',\n",
       "        'https://www.flipkart.com/windson-craft-saree-cover-bag-non-woven-fabric-clothes-organiser-transparent-window-storage-box-cloth-pack-6/p/itm92a94d17072ec?pid=GCVGFMFEFVK8PMGZ&lid=LSTGCVGFMFEFVK8PMGZWIU79K&marketplace=FLIPKART&store=reh&srno=b_3_117&otracker=browse&fm=organic&iid=61675d10-8098-4bca-b22f-ae43a6645a3a.GCVGFMFEFVK8PMGZ.SEARCH&ppt=None&ppn=None&ssid=rgc54hn0ao0000001684490695627']],\n",
       "      dtype=object)"
      ]
     },
     "execution_count": 31,
     "metadata": {},
     "output_type": "execute_result"
    }
   ],
   "source": [
    "returnTopNSimilar(\"Shoes black\")"
   ]
  },
  {
   "cell_type": "code",
   "execution_count": null,
   "metadata": {},
   "outputs": [],
   "source": []
  }
 ],
 "metadata": {
  "kernelspec": {
   "display_name": "Python 3",
   "language": "python",
   "name": "python3"
  },
  "language_info": {
   "codemirror_mode": {
    "name": "ipython",
    "version": 3
   },
   "file_extension": ".py",
   "mimetype": "text/x-python",
   "name": "python",
   "nbconvert_exporter": "python",
   "pygments_lexer": "ipython3",
   "version": "3.9.13"
  },
  "orig_nbformat": 4
 },
 "nbformat": 4,
 "nbformat_minor": 2
}
